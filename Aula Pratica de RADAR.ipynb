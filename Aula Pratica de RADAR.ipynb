{
 "cells": [
  {
   "cell_type": "markdown",
   "metadata": {},
   "source": [
    "<center>\n",
    "<h1> Aula Prática Interativa para a Análise e Interpretação de Imagens SAR </h1>\n",
    "<h1> \"APIPAISAR\" </h1>\n",
    "<h2> Sensoriamento Remoto por RADAR </h2>\n",
    "</center>\n",
    "<h2> Sumário:</h2>\n",
    "\n",
    "\n",
    "1. [Aula Teórica de RADAR](https://docs.google.com/presentation/d/1ctEvbkrCtKHKX5Kg9_LxM8y-2DkKydhtuoL8tJSZUa8/edit?usp=sharing)\n",
    "1. Conhecer as principais etapas do pré-processamento de imagens SAR\n",
    "2. Analisar as propriedades das imagens SAR usando o Google Earth Engine com Python\n",
    "3. Comparação de imagens SAR com imagens ópticas \n",
    "4. Como obter imagens SAR\n",
    "5. Software principais para o processamento\n"
   ]
  },
  {
   "cell_type": "markdown",
   "metadata": {},
   "source": [
    "![Texto alternativo](processamentoSAR.jpg)"
   ]
  },
  {
   "cell_type": "markdown",
   "metadata": {},
   "source": [
    "##  O que é o Google Earth Engine?\n",
    "O Google Earth Engine é uma plataforma de computação que permite aos usuários executar análises geoespaciais na infraestrutura do Google. Existem várias formas de interagir com a plataforma:\n",
    "\n",
    "  - [Google Earth Engine](https://earthengine.google.com/)\n",
    "  - [Explorer](https://explorer.earthengine.google.com/)\n",
    "  - [Code Editor](https://code.earthengine.google.com/)  \n",
    "  - [Javascript wrapper library](https://github.com/google/earthengine-api/tree/master/javascript)\n",
    "  - [Python wrapper library](https://github.com/google/earthengine-api/tree/master/python)\n",
    "\n",
    "\n",
    "O propósito do Google Earth Engine é:\n",
    "\n",
    "- Realizar o desenvolvimento de algoritmos altamente interativos em escala global\n",
    "\n",
    "- Permitir ciência de alto impacto e orientada por dados\n",
    "\n",
    "- Fazer progressos substanciais nos desafios globais que envolvem grandes conjuntos de dados geoespaciais\n",
    "\n",
    "\n",
    "\n",
    "\n",
    "\n",
    "### Componentes:\n",
    "\n",
    "Os principais componentes do Earth Engine são:\n",
    "\n",
    "- [**Datasets**](https://developers.google.com/earth-engine/datasets/): Um arquivo em escala petabyte de imagens de sensoriamento remoto publicamente disponíveis e outros dados. Explore o catálogo de dados.\n",
    "\n",
    "- [**Compute power**](https://reader.elsevier.com/reader/sd/pii/S0034425717302900?token=2AC58EA43ED5306A13DA0E6AF50A5F286D59B455B45F52F9932FE71845E5C75C706C78E079BC3769B23B256612A225D0): Infraestrutura computacional do Google otimizada para processamento paralelo de dados geoespaciais.\n",
    "\n",
    "- APIs: APIs para JavaScript e Python (hospedadas no GitHub) para fazer solicitações aos servidores Earth Engine. Estes documentos focam em JavaScript; (Guia de introdução para a API Javascript). Para Python, consulte o guia de instalação Python e os exemplos Python no repositório do Earth Engine GitHub.\n",
    "\n",
    "- Editor de código: Um ambiente de desenvolvimento integrado (IDE) online para prototipagem e visualização rápidas de análises espaciais complexas usando a API Javascript. Explore os documentos do Editor de código."
   ]
  },
  {
   "cell_type": "code",
   "execution_count": 1,
   "metadata": {},
   "outputs": [
    {
     "data": {
      "text/html": [
       "<center><iframe width=\"560\" height=\"315\" src=\"https://www.youtube.com/embed/gKGOeTFHnKY\" frameborder=\"0\" allow=\"accelerometer; autoplay; encrypted-media; gyroscope; picture-in-picture\" allowfullscreen></iframe></center>"
      ],
      "text/plain": [
       "<IPython.core.display.HTML object>"
      ]
     },
     "execution_count": 1,
     "metadata": {},
     "output_type": "execute_result"
    }
   ],
   "source": [
    "#@title ### Meet Earth Engine\n",
    "from IPython.display import HTML\n",
    "HTML('<center><iframe width=\"560\" height=\"315\" src=\"https://www.youtube.com/embed/gKGOeTFHnKY\" frameborder=\"0\" allow=\"accelerometer; autoplay; encrypted-media; gyroscope; picture-in-picture\" allowfullscreen></iframe></center>')"
   ]
  },
  {
   "cell_type": "markdown",
   "metadata": {},
   "source": [
    "##  Conectando o GEE \n",
    "\n",
    "\n",
    "A API Python do Earth Engine e as ferramentas de linha de comando podem ser instaladas usando a ferramenta de instalação de pacotes pip do Python.\n",
    "\n",
    "A seguinte linha de células do Jupyter Notebook começa com! para indicar que um comando shell deve ser chamado."
   ]
  },
  {
   "cell_type": "code",
   "execution_count": 2,
   "metadata": {},
   "outputs": [],
   "source": [
    "#!pip install -U -q earthengine-api\n",
    "#!pip install -U -q folium\n",
    "#!pip install -U -q git+https://github.com/mccarthyryanc/folium_gee.git"
   ]
  },
  {
   "cell_type": "markdown",
   "metadata": {},
   "source": [
    "### Autenticação\n",
    "\n",
    "Para ler / gravar em um bloco do Google Drive ou do Google Cloud Storage ao qual você tem acesso, é necessário se autenticar (como você). Você também precisará se autenticar com o Google Earth Engine, para ter acesso a seus scripts, ativos etc.\n",
    "\n",
    "#### Autenticar no Earth Engine\n",
    "\n",
    "Para acessar o Earth Engine, inscreva-se em  (https://signup.earthengine.google.com/).\n",
    "\n",
    "Identifique-se no Google Cloud para ter acesso ao armazenamento e outros recursos. Quando você executa o código abaixo, ele exibe um link na saída para uma página de autenticação no seu navegador. Siga o link para uma página que permitirá conceder permissão ao Google Earth Engine para acessar seus recursos. Copie o código da página de permissões novamente para este bloco de notas e pressione retornar para concluir o processo."
   ]
  },
  {
   "cell_type": "code",
   "execution_count": 3,
   "metadata": {},
   "outputs": [],
   "source": [
    "#!earthengine authenticate"
   ]
  },
  {
   "cell_type": "markdown",
   "metadata": {},
   "source": [
    "##  Analisar as propriedades das imagens SAR usando o Google Earth Engine com Python"
   ]
  },
  {
   "cell_type": "code",
   "execution_count": 4,
   "metadata": {},
   "outputs": [
    {
     "name": "stdout",
     "output_type": "stream",
     "text": [
      "O Google Earth Engine foi inicializado com sucesso!\n"
     ]
    }
   ],
   "source": [
    "# Importar a API do Earth Engine e inicializá-la.\n",
    "import ee\n",
    "import folium\n",
    "import foliumgee\n",
    "\n",
    "\n",
    "\n",
    "try:\n",
    "  ee.Initialize()\n",
    "  print('O Google Earth Engine foi inicializado com sucesso!')\n",
    "except ee.EEException as e:\n",
    "  print('O Google Earth Engine falhou ao inicializar!')\n",
    "except:\n",
    "    print(\"Erro inesperado:\", sys.exc_info()[0])\n",
    "    raise"
   ]
  },
  {
   "cell_type": "code",
   "execution_count": 5,
   "metadata": {},
   "outputs": [],
   "source": [
    "# Carga das Imagens\n",
    "\n",
    "# Imagens de RADAR (Sentinel-1)\n",
    "s1_Canaima = ee.Image('COPERNICUS/S1_GRD/S1A_IW_GRDH_1SDV_20160127T095253_20160127T095318_009678_00E1E0_1587') \n",
    "s1_Caracas_1 = ee.Image('COPERNICUS/S1_GRD/S1B_IW_GRDH_1SDV_20191104T101548_20191104T101617_018776_023641_09FB')\n",
    "s1_Caracas_2 = ee.Image('COPERNICUS/S1_GRD/S1B_IW_GRDH_1SDV_20191104T101617_20191104T101642_018776_023641_8B58') \n",
    "s1_Margarita = ee.Image('COPERNICUS/S1_GRD/S1B_IW_GRDH_1SDV_20191018T100736_20191018T100805_018528_022E95_CE72') \n",
    "s1_Brasilia = ee.Image('COPERNICUS/S1_GRD/S1A_IW_GRDH_1SDV_20191029T084512_20191029T084537_029671_036146_C60B') \n",
    "\n",
    "\n",
    "# Imagens óticas (Sentinel-2)\n",
    "s2_Canaima = ee.Image('COPERNICUS/S2/20190921T143749_20190921T143808_T20NNM')  \n",
    "s2_Caracas = ee.Image('COPERNICUS/S2/20190326T145731_20190326T145725_T19PGM') \n",
    "s2_PtoCabello = ee.Image('COPERNICUS/S2/20190324T150719_20190324T150915_T19PFM')\n",
    "s2_Margarita = ee.Image('COPERNICUS/S2/20190412T144731_20190412T144733_T20PLT')\n",
    "s2_Brasilia = ee.Image('COPERNICUS/S2/20191017T132239_20191017T132234_T22LHH')\n"
   ]
  },
  {
   "cell_type": "code",
   "execution_count": 6,
   "metadata": {},
   "outputs": [
    {
     "data": {
      "text/plain": [
       "{'type': 'Image',\n",
       " 'bands': [{'id': 'B1',\n",
       "   'data_type': {'type': 'PixelType',\n",
       "    'precision': 'int',\n",
       "    'min': 0,\n",
       "    'max': 65535},\n",
       "   'dimensions': [1830, 1830],\n",
       "   'crs': 'EPSG:32620',\n",
       "   'crs_transform': [60.0, 0.0, 499980.0, 0.0, -60.0, 700020.0]},\n",
       "  {'id': 'B2',\n",
       "   'data_type': {'type': 'PixelType',\n",
       "    'precision': 'int',\n",
       "    'min': 0,\n",
       "    'max': 65535},\n",
       "   'dimensions': [10980, 10980],\n",
       "   'crs': 'EPSG:32620',\n",
       "   'crs_transform': [10.0, 0.0, 499980.0, 0.0, -10.0, 700020.0]},\n",
       "  {'id': 'B3',\n",
       "   'data_type': {'type': 'PixelType',\n",
       "    'precision': 'int',\n",
       "    'min': 0,\n",
       "    'max': 65535},\n",
       "   'dimensions': [10980, 10980],\n",
       "   'crs': 'EPSG:32620',\n",
       "   'crs_transform': [10.0, 0.0, 499980.0, 0.0, -10.0, 700020.0]},\n",
       "  {'id': 'B4',\n",
       "   'data_type': {'type': 'PixelType',\n",
       "    'precision': 'int',\n",
       "    'min': 0,\n",
       "    'max': 65535},\n",
       "   'dimensions': [10980, 10980],\n",
       "   'crs': 'EPSG:32620',\n",
       "   'crs_transform': [10.0, 0.0, 499980.0, 0.0, -10.0, 700020.0]},\n",
       "  {'id': 'B5',\n",
       "   'data_type': {'type': 'PixelType',\n",
       "    'precision': 'int',\n",
       "    'min': 0,\n",
       "    'max': 65535},\n",
       "   'dimensions': [5490, 5490],\n",
       "   'crs': 'EPSG:32620',\n",
       "   'crs_transform': [20.0, 0.0, 499980.0, 0.0, -20.0, 700020.0]},\n",
       "  {'id': 'B6',\n",
       "   'data_type': {'type': 'PixelType',\n",
       "    'precision': 'int',\n",
       "    'min': 0,\n",
       "    'max': 65535},\n",
       "   'dimensions': [5490, 5490],\n",
       "   'crs': 'EPSG:32620',\n",
       "   'crs_transform': [20.0, 0.0, 499980.0, 0.0, -20.0, 700020.0]},\n",
       "  {'id': 'B7',\n",
       "   'data_type': {'type': 'PixelType',\n",
       "    'precision': 'int',\n",
       "    'min': 0,\n",
       "    'max': 65535},\n",
       "   'dimensions': [5490, 5490],\n",
       "   'crs': 'EPSG:32620',\n",
       "   'crs_transform': [20.0, 0.0, 499980.0, 0.0, -20.0, 700020.0]},\n",
       "  {'id': 'B8',\n",
       "   'data_type': {'type': 'PixelType',\n",
       "    'precision': 'int',\n",
       "    'min': 0,\n",
       "    'max': 65535},\n",
       "   'dimensions': [10980, 10980],\n",
       "   'crs': 'EPSG:32620',\n",
       "   'crs_transform': [10.0, 0.0, 499980.0, 0.0, -10.0, 700020.0]},\n",
       "  {'id': 'B8A',\n",
       "   'data_type': {'type': 'PixelType',\n",
       "    'precision': 'int',\n",
       "    'min': 0,\n",
       "    'max': 65535},\n",
       "   'dimensions': [5490, 5490],\n",
       "   'crs': 'EPSG:32620',\n",
       "   'crs_transform': [20.0, 0.0, 499980.0, 0.0, -20.0, 700020.0]},\n",
       "  {'id': 'B9',\n",
       "   'data_type': {'type': 'PixelType',\n",
       "    'precision': 'int',\n",
       "    'min': 0,\n",
       "    'max': 65535},\n",
       "   'dimensions': [1830, 1830],\n",
       "   'crs': 'EPSG:32620',\n",
       "   'crs_transform': [60.0, 0.0, 499980.0, 0.0, -60.0, 700020.0]},\n",
       "  {'id': 'B10',\n",
       "   'data_type': {'type': 'PixelType',\n",
       "    'precision': 'int',\n",
       "    'min': 0,\n",
       "    'max': 65535},\n",
       "   'dimensions': [1830, 1830],\n",
       "   'crs': 'EPSG:32620',\n",
       "   'crs_transform': [60.0, 0.0, 499980.0, 0.0, -60.0, 700020.0]},\n",
       "  {'id': 'B11',\n",
       "   'data_type': {'type': 'PixelType',\n",
       "    'precision': 'int',\n",
       "    'min': 0,\n",
       "    'max': 65535},\n",
       "   'dimensions': [5490, 5490],\n",
       "   'crs': 'EPSG:32620',\n",
       "   'crs_transform': [20.0, 0.0, 499980.0, 0.0, -20.0, 700020.0]},\n",
       "  {'id': 'B12',\n",
       "   'data_type': {'type': 'PixelType',\n",
       "    'precision': 'int',\n",
       "    'min': 0,\n",
       "    'max': 65535},\n",
       "   'dimensions': [5490, 5490],\n",
       "   'crs': 'EPSG:32620',\n",
       "   'crs_transform': [20.0, 0.0, 499980.0, 0.0, -20.0, 700020.0]},\n",
       "  {'id': 'QA10',\n",
       "   'data_type': {'type': 'PixelType',\n",
       "    'precision': 'int',\n",
       "    'min': 0,\n",
       "    'max': 65535},\n",
       "   'dimensions': [10980, 10980],\n",
       "   'crs': 'EPSG:32620',\n",
       "   'crs_transform': [10.0, 0.0, 499980.0, 0.0, -10.0, 700020.0]},\n",
       "  {'id': 'QA20',\n",
       "   'data_type': {'type': 'PixelType',\n",
       "    'precision': 'int',\n",
       "    'min': 0,\n",
       "    'max': 4294967295},\n",
       "   'dimensions': [5490, 5490],\n",
       "   'crs': 'EPSG:32620',\n",
       "   'crs_transform': [20.0, 0.0, 499980.0, 0.0, -20.0, 700020.0]},\n",
       "  {'id': 'QA60',\n",
       "   'data_type': {'type': 'PixelType',\n",
       "    'precision': 'int',\n",
       "    'min': 0,\n",
       "    'max': 65535},\n",
       "   'dimensions': [1830, 1830],\n",
       "   'crs': 'EPSG:32620',\n",
       "   'crs_transform': [60.0, 0.0, 499980.0, 0.0, -60.0, 700020.0]}],\n",
       " 'id': 'COPERNICUS/S2/20190921T143749_20190921T143808_T20NNM',\n",
       " 'version': 1569199680941091,\n",
       " 'properties': {'DATATAKE_IDENTIFIER': 'GS2B_20190921T143749_013278_N02.08',\n",
       "  'SPACECRAFT_NAME': 'Sentinel-2B',\n",
       "  'MEAN_INCIDENCE_AZIMUTH_ANGLE_B8A': 100.293647707,\n",
       "  'MEAN_SOLAR_AZIMUTH_ANGLE': 103.451429941,\n",
       "  'system:footprint': {'type': 'LinearRing',\n",
       "   'coordinates': [[-63.00027065959148, 6.333053445218773],\n",
       "    [-63.000271378132965, 6.333042182438984],\n",
       "    [-63.00027092904454, 5.339931457708952],\n",
       "    [-63.00023419361424, 5.339889947478777],\n",
       "    [-63.00020293706734, 5.339844300456021],\n",
       "    [-63.00018811715448, 5.339841439053468],\n",
       "    [-62.009394085002846, 5.3390426944710665],\n",
       "    [-62.009352354798565, 5.339079171711745],\n",
       "    [-62.00930642477775, 5.339110223509214],\n",
       "    [-62.00930356532159, 5.339124952236584],\n",
       "    [-62.00846887415923, 5.835617473432504],\n",
       "    [-62.007558680117086, 6.3320935604038],\n",
       "    [-62.00759540590094, 6.332135098623691],\n",
       "    [-62.00762659154816, 6.332180902070495],\n",
       "    [-62.007641424837864, 6.332183732641949],\n",
       "    [-63.00018084192491, 6.3331321722651825],\n",
       "    [-63.00022251731743, 6.333095600642173],\n",
       "    [-63.000268503967035, 6.333064480932552],\n",
       "    [-63.00027065959148, 6.333053445218773]]},\n",
       "  'SOLAR_IRRADIANCE_B12': 87.75,\n",
       "  'SOLAR_IRRADIANCE_B10': 365.41,\n",
       "  'SENSOR_QUALITY': 'PASSED',\n",
       "  'SOLAR_IRRADIANCE_B11': 247.08,\n",
       "  'GENERATION_TIME': 1569088779000,\n",
       "  'SOLAR_IRRADIANCE_B8A': 953.93,\n",
       "  'FORMAT_CORRECTNESS': 'PASSED',\n",
       "  'CLOUD_COVERAGE_ASSESSMENT': 6.4245,\n",
       "  'system:time_end': 1569076870845,\n",
       "  'system:time_start': 1569076870845,\n",
       "  'DATASTRIP_ID': 'S2B_OPER_MSI_L1C_DS_SGS__20190921T175939_S20190921T143808_N02.08',\n",
       "  'PROCESSING_BASELINE': '02.08',\n",
       "  'SENSING_ORBIT_NUMBER': 96.0,\n",
       "  'SENSING_ORBIT_DIRECTION': 'DESCENDING',\n",
       "  'GENERAL_QUALITY': 'PASSED',\n",
       "  'GRANULE_ID': 'L1C_T20NNM_A013278_20190921T143808',\n",
       "  'REFLECTANCE_CONVERSION_CORRECTION': 0.990604937317,\n",
       "  'MEAN_INCIDENCE_AZIMUTH_ANGLE_B8': 101.166464386,\n",
       "  'DATATAKE_TYPE': 'INS-NOBS',\n",
       "  'MEAN_INCIDENCE_AZIMUTH_ANGLE_B9': 100.217121991,\n",
       "  'MEAN_INCIDENCE_AZIMUTH_ANGLE_B6': 100.436902042,\n",
       "  'MEAN_INCIDENCE_AZIMUTH_ANGLE_B7': 100.366038045,\n",
       "  'MEAN_INCIDENCE_AZIMUTH_ANGLE_B4': 100.640171052,\n",
       "  'MEAN_INCIDENCE_ZENITH_ANGLE_B1': 5.83714345841,\n",
       "  'MEAN_INCIDENCE_AZIMUTH_ANGLE_B5': 100.543796581,\n",
       "  'RADIOMETRIC_QUALITY': 'PASSED',\n",
       "  'MEAN_INCIDENCE_AZIMUTH_ANGLE_B2': 101.4370609,\n",
       "  'MEAN_INCIDENCE_AZIMUTH_ANGLE_B3': 100.946752592,\n",
       "  'MEAN_INCIDENCE_ZENITH_ANGLE_B5': 5.64503964595,\n",
       "  'MEAN_INCIDENCE_AZIMUTH_ANGLE_B1': 100.305401225,\n",
       "  'MEAN_INCIDENCE_ZENITH_ANGLE_B4': 5.60995431716,\n",
       "  'MEAN_INCIDENCE_ZENITH_ANGLE_B3': 5.54870696969,\n",
       "  'MEAN_INCIDENCE_ZENITH_ANGLE_B2': 5.49882211625,\n",
       "  'MEAN_INCIDENCE_ZENITH_ANGLE_B9': 5.88765499708,\n",
       "  'MEAN_INCIDENCE_ZENITH_ANGLE_B8': 5.52145066788,\n",
       "  'MEAN_INCIDENCE_ZENITH_ANGLE_B7': 5.73409754394,\n",
       "  'MEAN_INCIDENCE_ZENITH_ANGLE_B6': 5.68780513116,\n",
       "  'MEAN_SOLAR_ZENITH_ANGLE': 21.0898479849,\n",
       "  'MEAN_INCIDENCE_ZENITH_ANGLE_B8A': 5.78375663094,\n",
       "  'MGRS_TILE': '20NNM',\n",
       "  'CLOUDY_PIXEL_PERCENTAGE': 6.4245,\n",
       "  'PRODUCT_ID': 'S2B_MSIL1C_20190921T143749_N0208_R096_T20NNM_20190921T175939',\n",
       "  'MEAN_INCIDENCE_ZENITH_ANGLE_B10': 5.58912539695,\n",
       "  'SOLAR_IRRADIANCE_B9': 817.58,\n",
       "  'DEGRADED_MSI_DATA_PERCENTAGE': 0.0,\n",
       "  'MEAN_INCIDENCE_ZENITH_ANGLE_B11': 5.68354016005,\n",
       "  'MEAN_INCIDENCE_ZENITH_ANGLE_B12': 5.8013766752,\n",
       "  'SOLAR_IRRADIANCE_B6': 1291.13,\n",
       "  'MEAN_INCIDENCE_AZIMUTH_ANGLE_B10': 100.815383074,\n",
       "  'SOLAR_IRRADIANCE_B5': 1425.78,\n",
       "  'MEAN_INCIDENCE_AZIMUTH_ANGLE_B11': 100.480969574,\n",
       "  'SOLAR_IRRADIANCE_B8': 1041.28,\n",
       "  'MEAN_INCIDENCE_AZIMUTH_ANGLE_B12': 100.324127147,\n",
       "  'SOLAR_IRRADIANCE_B7': 1175.57,\n",
       "  'SOLAR_IRRADIANCE_B2': 1959.77,\n",
       "  'SOLAR_IRRADIANCE_B1': 1874.3,\n",
       "  'SOLAR_IRRADIANCE_B4': 1512.79,\n",
       "  'GEOMETRIC_QUALITY': 'PASSED',\n",
       "  'SOLAR_IRRADIANCE_B3': 1824.93,\n",
       "  'system:asset_size': 1277055455,\n",
       "  'system:index': '20190921T143749_20190921T143808_T20NNM'}}"
      ]
     },
     "execution_count": 6,
     "metadata": {},
     "output_type": "execute_result"
    }
   ],
   "source": [
    "# Consulte Metadados\n",
    "s2_Canaima.getInfo()"
   ]
  },
  {
   "cell_type": "markdown",
   "metadata": {},
   "source": [
    "![Texto alternativo](Sentinel2_Spectral_Bands.jpg)"
   ]
  },
  {
   "cell_type": "code",
   "execution_count": 7,
   "metadata": {},
   "outputs": [
    {
     "name": "stdout",
     "output_type": "stream",
     "text": [
      "CLOUDY_PIXEL_PERCENTAGE: \n"
     ]
    },
    {
     "data": {
      "text/plain": [
       "6.4245"
      ]
     },
     "execution_count": 7,
     "metadata": {},
     "output_type": "execute_result"
    }
   ],
   "source": [
    "# Obtenha uma propriedade de metadados específica.\n",
    "cloudiness = s2_Canaima.get('CLOUDY_PIXEL_PERCENTAGE')\n",
    "print('CLOUDY_PIXEL_PERCENTAGE: ')\n",
    "cloudiness.getInfo() # ee.Number"
   ]
  },
  {
   "cell_type": "code",
   "execution_count": 8,
   "metadata": {},
   "outputs": [
    {
     "name": "stdout",
     "output_type": "stream",
     "text": [
      "Band names:  ['B1', 'B2', 'B3', 'B4', 'B5', 'B6', 'B7', 'B8', 'B8A', 'B9', 'B10', 'B11', 'B12', 'QA10', 'QA20', 'QA60']\n"
     ]
    }
   ],
   "source": [
    "# Obter informações sobre as bandas.\n",
    "bandNames = s2_Canaima.bandNames()\n",
    "print('Band names: ', bandNames.getInfo()) # ee.List of band names"
   ]
  },
  {
   "cell_type": "code",
   "execution_count": 9,
   "metadata": {},
   "outputs": [
    {
     "data": {
      "text/plain": [
       "{'type': 'Image',\n",
       " 'bands': [{'id': 'VV',\n",
       "   'data_type': {'type': 'PixelType', 'precision': 'double'},\n",
       "   'dimensions': [28410, 21826],\n",
       "   'crs': 'EPSG:32620',\n",
       "   'crs_transform': [10.0,\n",
       "    0.0,\n",
       "    493216.4742832236,\n",
       "    0.0,\n",
       "    -10.0,\n",
       "    768717.6830852785]},\n",
       "  {'id': 'VH',\n",
       "   'data_type': {'type': 'PixelType', 'precision': 'double'},\n",
       "   'dimensions': [28410, 21826],\n",
       "   'crs': 'EPSG:32620',\n",
       "   'crs_transform': [10.0,\n",
       "    0.0,\n",
       "    493216.4742832236,\n",
       "    0.0,\n",
       "    -10.0,\n",
       "    768717.6830852785]},\n",
       "  {'id': 'angle',\n",
       "   'data_type': {'type': 'PixelType', 'precision': 'float'},\n",
       "   'dimensions': [21, 10],\n",
       "   'crs': 'EPSG:4326',\n",
       "   'crs_transform': [-0.1120800975778522,\n",
       "    -0.03946931228339423,\n",
       "    -60.49914385528299,\n",
       "    0.023201877627730738,\n",
       "    -0.18110783821506793,\n",
       "    6.489012565743474]}],\n",
       " 'id': 'COPERNICUS/S1_GRD/S1A_IW_GRDH_1SDV_20160127T095253_20160127T095318_009678_00E1E0_1587',\n",
       " 'version': 1575638178139285,\n",
       " 'properties': {'GRD_Post_Processing_start': 1453902620450.0,\n",
       "  'sliceNumber': 9.0,\n",
       "  'GRD_Post_Processing_facility_name': 'Copernicus S1 Core Ground Segment - DPA',\n",
       "  'resolution': 'H',\n",
       "  'SLC_Processing_facility_name': 'Copernicus S1 Core Ground Segment - DPA',\n",
       "  'system:footprint': {'type': 'LinearRing',\n",
       "   'coordinates': [[-62.727977004101774, 6.945273137457436],\n",
       "    [-62.72881228131565, 6.942219855765108],\n",
       "    [-62.76365276353501, 6.784293417348171],\n",
       "    [-62.94781469778829, 5.8716758325158755],\n",
       "    [-63.03492264979139, 5.43731430109416],\n",
       "    [-61.93661150596096, 5.2107794045865585],\n",
       "    [-60.8240606531317, 4.979269172879455],\n",
       "    [-60.820887140438835, 4.98842934063061],\n",
       "    [-60.745625118659575, 5.319031696790009],\n",
       "    [-60.71175685047953, 5.476463828990492],\n",
       "    [-60.610046163769496, 5.956561151873275],\n",
       "    [-60.507998988283234, 6.4365613386158165],\n",
       "    [-60.49735227869419, 6.489015630114553],\n",
       "    [-60.51120037783547, 6.491919907176622],\n",
       "    [-60.769726688992016, 6.545399370231706],\n",
       "    [-61.45653675953412, 6.686744734262608],\n",
       "    [-61.94346678511298, 6.786327908698938],\n",
       "    [-62.72612939617077, 6.945272059597542],\n",
       "    [-62.727977004101774, 6.945273137457436]]},\n",
       "  'familyName': 'SENTINEL-1',\n",
       "  'segmentStartTime': 1453888169740.0,\n",
       "  'missionDataTakeID': 57824.0,\n",
       "  'GRD_Post_Processing_facility_country': 'Germany',\n",
       "  'nssdcIdentifier': '0000-000A',\n",
       "  'productClass': 'S',\n",
       "  'phaseIdentifier': 1.0,\n",
       "  'orbitProperties_pass': 'DESCENDING',\n",
       "  'relativeOrbitNumber_stop': 156.0,\n",
       "  'SLC_Processing_facility_site': 'DLR-Oberpfaffenhofen',\n",
       "  'GRD_Post_Processing_stop': 1453903147000.0,\n",
       "  'system:time_start': 1453888373440.0,\n",
       "  'instrumentMode': 'IW',\n",
       "  'totalSlices': 15.0,\n",
       "  'SLC_Processing_stop': 1453902996000.0,\n",
       "  'startTimeANX': 2861918.0,\n",
       "  'SLC_Processing_start': 1453902743000.0,\n",
       "  'resolution_meters': 10.0,\n",
       "  'instrumentSwath': 'IW',\n",
       "  'relativeOrbitNumber_start': 156.0,\n",
       "  'productTimelinessCategory': 'Fast-24h',\n",
       "  'SLC_Processing_software_name': 'Sentinel-1 IPF',\n",
       "  'sliceProductFlag': 'true',\n",
       "  'S1TBX_Calibration_vers': '5.0.4',\n",
       "  'orbitNumber_start': 9678.0,\n",
       "  'GRD_Post_Processing_facility_site': 'DLR-Oberpfaffenhofen',\n",
       "  'instrument': 'Synthetic Aperture Radar',\n",
       "  'GRD_Post_Processing_software_name': 'Sentinel-1 IPF',\n",
       "  'platform_number': 'A',\n",
       "  'S1TBX_SAR_Processing_vers': '5.0.4',\n",
       "  'productType': 'GRD',\n",
       "  'orbitProperties_ascendingNodeTime': 1453885511520.0,\n",
       "  'stopTimeANX': 2886918.0,\n",
       "  'productComposition': 'Slice',\n",
       "  'productClassDescription': 'SAR Standard L1 Product',\n",
       "  'GRD_Post_Processing_software_version': '002.60',\n",
       "  'SLC_Processing_software_version': '002.60',\n",
       "  'orbitNumber_stop': 9678.0,\n",
       "  'instrumentConfigurationID': 5.0,\n",
       "  'cycleNumber': 71.0,\n",
       "  'system:index': 'S1A_IW_GRDH_1SDV_20160127T095253_20160127T095318_009678_00E1E0_1587',\n",
       "  'SNAP_Graph_Processing_Framework_GPF_vers': '5.0.4',\n",
       "  'SLC_Processing_facility_org': 'ESA',\n",
       "  'SLC_Processing_facility_country': 'Germany',\n",
       "  'GRD_Post_Processing_facility_org': 'ESA',\n",
       "  'transmitterReceiverPolarisation': ['VV', 'VH']}}"
      ]
     },
     "execution_count": 9,
     "metadata": {},
     "output_type": "execute_result"
    }
   ],
   "source": [
    "# Consulte Metadados\n",
    "s1_Canaima.getInfo()"
   ]
  },
  {
   "cell_type": "markdown",
   "metadata": {},
   "source": [
    "![Texto alternativo](sentinel_1.jpg)"
   ]
  },
  {
   "cell_type": "markdown",
   "metadata": {},
   "source": [
    "  - [Carga Útil](https://sentinel.esa.int/web/sentinel/missions/sentinel-1/instrument-payload)\n",
    "  - [Resolução e Largura de Banda](https://sentinel.esa.int/web/sentinel/missions/sentinel-1/instrument-payload/resolution-swath)"
   ]
  },
  {
   "cell_type": "code",
   "execution_count": 10,
   "metadata": {},
   "outputs": [
    {
     "name": "stdout",
     "output_type": "stream",
     "text": [
      "Polarização: \n"
     ]
    },
    {
     "data": {
      "text/plain": [
       "['VV', 'VH']"
      ]
     },
     "execution_count": 10,
     "metadata": {},
     "output_type": "execute_result"
    }
   ],
   "source": [
    "# Obtenha uma propriedade de metadados específica.\n",
    "cloudiness = s1_Canaima.get('transmitterReceiverPolarisation')\n",
    "print('Polarização: ')\n",
    "cloudiness.getInfo() # ee.Number"
   ]
  },
  {
   "cell_type": "code",
   "execution_count": 11,
   "metadata": {},
   "outputs": [],
   "source": [
    "# Especificar os parâmetros de visualização para as imagens \n",
    "\n",
    "# Imagens de RADAR (Sentinel-1)\n",
    "s1_Canaima_VV = ee.Image(s1_Canaima).visualize(min=-15, max=0, bands=['VV'])\n",
    "s1_Canaima_VH = ee.Image(s1_Canaima).visualize(min=-15, max=0, bands=['VH'])\n",
    "\n",
    "s1_Caracas_1_VV = ee.Image(s1_Caracas_1).visualize(min=-15, max=0, bands=['VV'])\n",
    "s1_Caracas_1_VH = ee.Image(s1_Caracas_1).visualize(min=-15, max=0, bands=['VH'])\n",
    "\n",
    "s1_Caracas_2_VV = ee.Image(s1_Caracas_2).visualize(min=-15, max=0, bands=['VV'])\n",
    "s1_Caracas_2_VH = ee.Image(s1_Caracas_2).visualize(min=-15, max=0, bands=['VH'])\n",
    "\n",
    "s1_Margarita_VV = ee.Image(s1_Margarita).visualize(min=-15, max=0, bands=['VV'])\n",
    "s1_Margarita_VH = ee.Image(s1_Margarita).visualize(min=-15, max=0, bands=['VH'])\n",
    "\n",
    "s1_Brasilia_VV = ee.Image(s1_Brasilia).visualize(min=-15, max=0, bands=['VV'])\n",
    "s1_Brasilia_VH = ee.Image(s1_Brasilia).visualize(min=-15, max=0, bands=['VH'])\n",
    "\n",
    "\n",
    "# Imagens óticas (Sentinel-2)\n",
    "s2_Canaima_rgb = ee.Image(s2_Canaima).visualize(min=300, max=2800, bands=['B4', 'B3', 'B2'])\n",
    "s2_Canaima_swir = ee.Image(s2_Canaima).visualize(min=500, max=3300, bands=['B12', 'B8', 'B5'])\n",
    "\n",
    "s2_Caracas_rgb = ee.Image(s2_Caracas).visualize(min=300, max=2800, bands=['B4', 'B3', 'B2'])\n",
    "s2_Caracas_swir = ee.Image(s2_Caracas).visualize(min=500, max=3300, bands=['B12', 'B8', 'B5'])\n",
    "\n",
    "s2_PtoCabello_rgb = ee.Image(s2_PtoCabello).visualize(min=300, max=2800, bands=['B4', 'B3', 'B2'])\n",
    "s2_PtoCabello_swir = ee.Image(s2_PtoCabello).visualize(min=500, max=3300, bands=['B12', 'B8', 'B5'])\n",
    "\n",
    "s2_Margarita_rgb = ee.Image(s2_Margarita).visualize(min=300, max=2800, bands=['B4', 'B3', 'B2'])\n",
    "s2_Margarita_swir = ee.Image(s2_Margarita).visualize(min=500, max=3300, bands=['B12', 'B8', 'B5'])\n",
    "\n",
    "s2_Brasilia_rgb = ee.Image(s2_Brasilia).visualize(min=300, max=2800, bands=['B4', 'B3', 'B2'])\n",
    "s2_Brasilia_swir = ee.Image(s2_Brasilia).visualize(min=500, max=3300, bands=['B12', 'B8', 'B5'])\n"
   ]
  },
  {
   "cell_type": "markdown",
   "metadata": {},
   "source": [
    "# Salto Angel \n",
    "##  Parque Nacional Canaina \n",
    "## Estado Bolivar - Venezuela"
   ]
  },
  {
   "cell_type": "markdown",
   "metadata": {},
   "source": [
    "![Texto alternativo](Salto_Angel.png)"
   ]
  },
  {
   "cell_type": "code",
   "execution_count": 12,
   "metadata": {},
   "outputs": [
    {
     "data": {
      "text/html": [
       "<center><iframe width=\"560\" height=\"315\" src=\"https://www.youtube.com/embed/L_tqK4eqelA\" frameborder=\"0\" allow=\"accelerometer; autoplay; encrypted-media; gyroscope; picture-in-picture\" allowfullscreen></iframe></center>"
      ],
      "text/plain": [
       "<IPython.core.display.HTML object>"
      ]
     },
     "execution_count": 12,
     "metadata": {},
     "output_type": "execute_result"
    }
   ],
   "source": [
    "#@title ### Meet Earth Engine\n",
    "from IPython.display import HTML\n",
    "HTML('<center><iframe width=\"560\" height=\"315\" src=\"https://www.youtube.com/embed/L_tqK4eqelA\" frameborder=\"0\" allow=\"accelerometer; autoplay; encrypted-media; gyroscope; picture-in-picture\" allowfullscreen></iframe></center>')"
   ]
  },
  {
   "cell_type": "code",
   "execution_count": 13,
   "metadata": {},
   "outputs": [],
   "source": [
    "# Crie um basemap folium no qual as camadas acima serão adicionadas\n",
    "\n",
    "myMap = folium.Map(location=[5.97, -62.53], zoom_start=8, tiles='Stamen Terrain', control_scale=True, detect_retina=True)"
   ]
  },
  {
   "cell_type": "code",
   "execution_count": 14,
   "metadata": {},
   "outputs": [],
   "source": [
    "# Adicione as imagens Sentinel-1 e Sentinel-2 no mapa folium \n",
    "\n",
    "foliumgee.layer(myMap, s1_Canaima_VV, folium_kwargs={'overlay':True, 'name': 'polarizaçãoVV_can'})\n",
    "foliumgee.layer(myMap, s1_Canaima_VH, folium_kwargs={'overlay':True, 'name': 'polarizaçãoVH_can'})\n",
    "\n",
    "foliumgee.layer(myMap, s2_Canaima_rgb, folium_kwargs={'overlay':True, 'name': 'cor verdadeira_can'})\n",
    "foliumgee.layer(myMap, s2_Canaima_swir, folium_kwargs={'overlay':True, 'show': False, 'name': 'Infravermelho de onda curta_can'})"
   ]
  },
  {
   "cell_type": "code",
   "execution_count": 15,
   "metadata": {},
   "outputs": [
    {
     "data": {
      "text/html": [
       "<div style=\"width:100%;\"><div style=\"position:relative;width:100%;height:0;padding-bottom:60%;\"><iframe src=\"data:text/html;charset=utf-8;base64,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\" style=\"position:absolute;width:100%;height:100%;left:0;top:0;border:none !important;\" allowfullscreen webkitallowfullscreen mozallowfullscreen></iframe></div></div>"
      ],
      "text/plain": [
       "<folium.folium.Map at 0x7f57d0d01588>"
      ]
     },
     "execution_count": 15,
     "metadata": {},
     "output_type": "execute_result"
    }
   ],
   "source": [
    "# Adicionar um painel de controle de camada ao mapa\n",
    "\n",
    "folium.LayerControl().add_to(myMap)\n",
    "\n",
    "# Mostrar o mapa!\n",
    "myMap"
   ]
  },
  {
   "cell_type": "markdown",
   "metadata": {},
   "source": [
    "\n",
    "<h2>Analisando estas imagens, responda:</h2>\n",
    "\n",
    "\n",
    "1. Quais são as feições facilmente interpretáveis?\n",
    "\n",
    "2. Analisando as diferenças de iluminação que podem ser percebidas na imagem, deduza por onde passou o sensor em relação à    direcção de voo (Azimute). Ao norte, leste, sul, oeste?\n",
    "   \n",
    "3. Analisando com cuidado a imagem, explique o que são as áreas escuras que ocorrem perto de alguns rios? \n",
    "\n",
    "4. Analisando a imagem, localize o “Salto Angel”  e explique por que ela aparece tão escuro na imagem. \n",
    "\n",
    "5. Explique por que a água tem uma tonalidade escura na imagem?\n",
    "\n",
    "6. Quais feições não puderam ser detectadas na imagem de radar e são visíveis na imagem ótica?\n",
    "\n",
    "7. Visualize novamente o “Salto Ángel” localizado anteriormente. Consegue identificar na imagem Sentinel-2? Porque?\n",
    "\n"
   ]
  },
  {
   "cell_type": "code",
   "execution_count": 16,
   "metadata": {},
   "outputs": [],
   "source": [
    "# Redução do Speckle\n",
    "\n",
    "smooth_s1_Canaima_VV = s1_Canaima_VV.focal_median(200, 'circle', 'meters')\n",
    "smooth_s1_Canaima_VH = s1_Canaima_VH.focal_median(200, 'circle', 'meters')"
   ]
  },
  {
   "cell_type": "code",
   "execution_count": 17,
   "metadata": {},
   "outputs": [],
   "source": [
    "# Crie um basemap folium no qual as camadas acima serão adicionadas\n",
    "\n",
    "myMap = folium.Map(location=[5.97, -62.53], zoom_start=8, tiles='Stamen Terrain', control_scale=True, detect_retina=True)"
   ]
  },
  {
   "cell_type": "code",
   "execution_count": 18,
   "metadata": {},
   "outputs": [],
   "source": [
    "# Adicione as imagens Sentinel-1 com Redução do Speckle Sentinel-1 no mapa folium \n",
    "\n",
    "foliumgee.layer(myMap, smooth_s1_Canaima_VV, folium_kwargs={'overlay':True, 'name':'Com_Redução_do_Speckle_VV_can'})\n",
    "foliumgee.layer(myMap, smooth_s1_Canaima_VH, folium_kwargs={'overlay':True, 'name':'Com_Redução_do_Speckle_VH_can'})\n",
    "\n",
    "\n",
    "foliumgee.layer(myMap, s1_Canaima_VV, folium_kwargs={'overlay':True, 'name':'Sem_Redução_do_Speckle_VV_can'})\n",
    "foliumgee.layer(myMap, s1_Canaima_VH, folium_kwargs={'overlay':True, 'name':'Sem_Redução_do_Speckle_VH_can'})"
   ]
  },
  {
   "cell_type": "code",
   "execution_count": 19,
   "metadata": {},
   "outputs": [
    {
     "data": {
      "text/html": [
       "<div style=\"width:100%;\"><div style=\"position:relative;width:100%;height:0;padding-bottom:60%;\"><iframe src=\"data:text/html;charset=utf-8;base64,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\" style=\"position:absolute;width:100%;height:100%;left:0;top:0;border:none !important;\" allowfullscreen webkitallowfullscreen mozallowfullscreen></iframe></div></div>"
      ],
      "text/plain": [
       "<folium.folium.Map at 0x7f57d0d12cf8>"
      ]
     },
     "execution_count": 19,
     "metadata": {},
     "output_type": "execute_result"
    }
   ],
   "source": [
    "# Adicionar um painel de controle de camada ao mapa\n",
    "\n",
    "folium.LayerControl().add_to(myMap)\n",
    "\n",
    "# Mostrar o mapa!\n",
    "myMap"
   ]
  },
  {
   "cell_type": "markdown",
   "metadata": {},
   "source": [
    "\n",
    "<h2>Analisando estas imagens, responda:</h2>\n",
    "\n",
    "\n",
    "1. Observe a imagem com redução do speckle e compare a mesma com a imagem que não tem redução do speckle. Como você avalia o speckle nestas imagens? A redução do speckle facilita a interpretação e análise?\n",
    "\n"
   ]
  },
  {
   "cell_type": "markdown",
   "metadata": {},
   "source": [
    "# Cidade de Caracas  \n",
    " \n",
    "## Distrito Capital - Venezuela"
   ]
  },
  {
   "cell_type": "markdown",
   "metadata": {},
   "source": [
    "![Texto alternativo](Caracas1.jpg)\n"
   ]
  },
  {
   "cell_type": "code",
   "execution_count": 20,
   "metadata": {},
   "outputs": [],
   "source": [
    "# Crie um basemap folium no qual as camadas acima serão adicionadas\n",
    "\n",
    "myMap = folium.Map(location=[10.48, -66.90], zoom_start=8, tiles='Stamen Terrain', control_scale=True, detect_retina=True)"
   ]
  },
  {
   "cell_type": "code",
   "execution_count": 21,
   "metadata": {},
   "outputs": [],
   "source": [
    "# Adicione as imagens Sentinel-1 e Sentinel-2 no mapa folium \n",
    "\n",
    "foliumgee.layer(myMap, s1_Caracas_1_VV, folium_kwargs={'overlay':True, 'name': 'polarizaçãoVV_ccs1'})\n",
    "foliumgee.layer(myMap, s1_Caracas_1_VH, folium_kwargs={'overlay':True, 'name': 'polarizaçãoVH_ccs1'})\n",
    "foliumgee.layer(myMap, s1_Caracas_2_VV, folium_kwargs={'overlay':True, 'name': 'polarizaçãoVV_ccs2'})\n",
    "foliumgee.layer(myMap, s1_Caracas_2_VH, folium_kwargs={'overlay':True, 'name': 'polarizaçãoVH_ccs2'})\n",
    "\n",
    "\n",
    "foliumgee.layer(myMap, s2_Caracas_rgb, folium_kwargs={'overlay':True, 'name': 'cor verdadeira_ccs'})\n",
    "foliumgee.layer(myMap, s2_Caracas_swir, folium_kwargs={'overlay':True, 'show': False, 'name': 'Infravermelho de onda curta_ccs'})\n",
    "foliumgee.layer(myMap, s2_PtoCabello_rgb, folium_kwargs={'overlay':True, 'name': 'cor verdadeira_ptoC'})\n",
    "foliumgee.layer(myMap, s2_PtoCabello_swir, folium_kwargs={'overlay':True, 'show': False, 'name': 'Infravermelho de onda curta_ptoC'})\n"
   ]
  },
  {
   "cell_type": "code",
   "execution_count": 22,
   "metadata": {},
   "outputs": [
    {
     "data": {
      "text/html": [
       "<div style=\"width:100%;\"><div style=\"position:relative;width:100%;height:0;padding-bottom:60%;\"><iframe src=\"data:text/html;charset=utf-8;base64,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\" style=\"position:absolute;width:100%;height:100%;left:0;top:0;border:none !important;\" allowfullscreen webkitallowfullscreen mozallowfullscreen></iframe></div></div>"
      ],
      "text/plain": [
       "<folium.folium.Map at 0x7f57d0cb11d0>"
      ]
     },
     "execution_count": 22,
     "metadata": {},
     "output_type": "execute_result"
    }
   ],
   "source": [
    "# Adicionar um painel de controle de camada ao mapa\n",
    "\n",
    "folium.LayerControl().add_to(myMap)\n",
    "\n",
    "# Mostrar o mapa!\n",
    "myMap"
   ]
  },
  {
   "cell_type": "markdown",
   "metadata": {},
   "source": [
    "<h2>Analisando estas imagens, responda:</h2>\n",
    "\n",
    "\n",
    "1. Analisando as diferenças de iluminação que podem ser percebidas na imagem, deduza por onde passou o sensor em relação à    direcção de voo (Azimute). Ao norte, leste, sul, oeste?\n",
    "   \n",
    "2. Analisando a imagem de radar localize: “ocorrência de sombras”, “encurtamento de rampa”, “inversão do relevo”, \"área      urbana\", \"água\", “aeroporto”,“barcos”. Compare com as imagens óticas.  \n",
    "\n",
    "3. Quais feições não puderam ser detectadas na imagem de radar e são visíveis na imagem ótica?\n"
   ]
  },
  {
   "cell_type": "markdown",
   "metadata": {},
   "source": [
    "# Ilha de Margarita \n",
    "## Estado Nueva Esparta - Venezuela"
   ]
  },
  {
   "cell_type": "markdown",
   "metadata": {},
   "source": [
    "![Texto alternativo](Margarita1.jpg)\n",
    "![Texto alternativo](Margarita2.jpg)"
   ]
  },
  {
   "cell_type": "code",
   "execution_count": 23,
   "metadata": {},
   "outputs": [],
   "source": [
    "# Crie um basemap folium no qual as camadas acima serão adicionadas\n",
    "\n",
    "myMap = folium.Map(location=[10.78, -63.94], zoom_start=8, tiles='Stamen Terrain', control_scale=True, detect_retina=True)"
   ]
  },
  {
   "cell_type": "code",
   "execution_count": 24,
   "metadata": {},
   "outputs": [],
   "source": [
    "# Adicione as imagens Sentinel-1 e Sentinel-2 no mapa folium \n",
    "\n",
    "foliumgee.layer(myMap, s1_Margarita_VV, folium_kwargs={'overlay':True, 'name': 'polarizaçãoVV_marg'})\n",
    "foliumgee.layer(myMap, s1_Margarita_VH, folium_kwargs={'overlay':True, 'name': 'polarizaçãoVH_marg'})\n",
    "\n",
    "foliumgee.layer(myMap, s2_Margarita_rgb, folium_kwargs={'overlay':True, 'name': 'cor verdadeira_marg'})\n",
    "foliumgee.layer(myMap, s2_Margarita_swir, folium_kwargs={'overlay':True, 'show': False, 'name': 'Infravermelho de onda curta_marg'})\n"
   ]
  },
  {
   "cell_type": "code",
   "execution_count": 25,
   "metadata": {},
   "outputs": [
    {
     "data": {
      "text/html": [
       "<div style=\"width:100%;\"><div style=\"position:relative;width:100%;height:0;padding-bottom:60%;\"><iframe src=\"data:text/html;charset=utf-8;base64,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\" style=\"position:absolute;width:100%;height:100%;left:0;top:0;border:none !important;\" allowfullscreen webkitallowfullscreen mozallowfullscreen></iframe></div></div>"
      ],
      "text/plain": [
       "<folium.folium.Map at 0x7f57d0ccd588>"
      ]
     },
     "execution_count": 25,
     "metadata": {},
     "output_type": "execute_result"
    }
   ],
   "source": [
    "# Adicionar um painel de controle de camada ao mapa\n",
    "\n",
    "folium.LayerControl().add_to(myMap)\n",
    "\n",
    "# Mostrar o mapa!\n",
    "myMap"
   ]
  },
  {
   "cell_type": "markdown",
   "metadata": {},
   "source": [
    "<h2>Analisando estas imagens, responda:</h2>\n",
    "\n",
    "\n",
    "1. Analisando as diferenças de iluminação que podem ser percebidas na imagem, deduza por onde passou o sensor em relação à    direcção de voo (Azimute). Ao norte, leste, sul, oeste?\n",
    "   \n",
    "2. Analisando a imagem de radar localize: “ocorrência de sombras”, “encurtamento de rampa”, “inversão do relevo”, \"área      urbana\", \"água\", “aeroporto”,“barcos”. Compare com as imagens óticas.  \n",
    "\n",
    "3. Quais feições não puderam ser detectadas na imagem de radar e são visíveis na imagem ótica?"
   ]
  },
  {
   "cell_type": "markdown",
   "metadata": {},
   "source": [
    "# Brasília\n",
    "## Distrito Federal - Brasil"
   ]
  },
  {
   "cell_type": "markdown",
   "metadata": {},
   "source": [
    "![Texto alternativo](Brasilia.jpg)"
   ]
  },
  {
   "cell_type": "code",
   "execution_count": 26,
   "metadata": {},
   "outputs": [],
   "source": [
    "# Crie um basemap folium no qual as camadas acima serão adicionadas\n",
    "\n",
    "myMap = folium.Map(location=[-15.79, -47.89], zoom_start=8, tiles='Stamen Terrain', control_scale=True, detect_retina=True)"
   ]
  },
  {
   "cell_type": "code",
   "execution_count": 27,
   "metadata": {},
   "outputs": [],
   "source": [
    "# Adicione as imagens Sentinel-1 e Sentinel-2 no mapa folium \n",
    "\n",
    "foliumgee.layer(myMap, s1_Brasilia_VV, folium_kwargs={'overlay':True, 'name': 'polarizaçãoVV_bsb'})\n",
    "foliumgee.layer(myMap, s1_Brasilia_VH, folium_kwargs={'overlay':True, 'name': 'polarizaçãoVH_bsb'})\n",
    "\n",
    "foliumgee.layer(myMap, s2_Brasilia_rgb, folium_kwargs={'overlay':True, 'name': 'cor verdadeira_bsb'})\n",
    "foliumgee.layer(myMap, s2_Brasilia_swir, folium_kwargs={'overlay':True, 'show': False, 'name': 'Infravermelho de onda curta_bsb'})\n"
   ]
  },
  {
   "cell_type": "code",
   "execution_count": 28,
   "metadata": {},
   "outputs": [
    {
     "data": {
      "text/html": [
       "<div style=\"width:100%;\"><div style=\"position:relative;width:100%;height:0;padding-bottom:60%;\"><iframe src=\"data:text/html;charset=utf-8;base64,PCFET0NUWVBFIGh0bWw+CjxoZWFkPiAgICAKICAgIDxtZXRhIGh0dHAtZXF1aXY9ImNvbnRlbnQtdHlwZSIgY29udGVudD0idGV4dC9odG1sOyBjaGFyc2V0PVVURi04IiAvPgogICAgCiAgICAgICAgPHNjcmlwdD4KICAgICAgICAgICAgTF9OT19UT1VDSCA9IGZhbHNlOwogICAgICAgICAgICBMX0RJU0FCTEVfM0QgPSBmYWxzZTsKICAgICAgICA8L3NjcmlwdD4KICAgIAogICAgPHNjcmlwdCBzcmM9Imh0dHBzOi8vY2RuLmpzZGVsaXZyLm5ldC9ucG0vbGVhZmxldEAxLjUuMS9kaXN0L2xlYWZsZXQuanMiPjwvc2NyaXB0PgogICAgPHNjcmlwdCBzcmM9Imh0dHBzOi8vY29kZS5qcXVlcnkuY29tL2pxdWVyeS0xLjEyLjQubWluLmpzIj48L3NjcmlwdD4KICAgIDxzY3JpcHQgc3JjPSJodHRwczovL21heGNkbi5ib290c3RyYXBjZG4uY29tL2Jvb3RzdHJhcC8zLjIuMC9qcy9ib290c3RyYXAubWluLmpzIj48L3NjcmlwdD4KICAgIDxzY3JpcHQgc3JjPSJodHRwczovL2NkbmpzLmNsb3VkZmxhcmUuY29tL2FqYXgvbGlicy9MZWFmbGV0LmF3ZXNvbWUtbWFya2Vycy8yLjAuMi9sZWFmbGV0LmF3ZXNvbWUtbWFya2Vycy5qcyI+PC9zY3JpcHQ+CiAgICA8bGluayByZWw9InN0eWxlc2hlZXQiIGhyZWY9Imh0dHBzOi8vY2RuLmpzZGVsaXZyLm5ldC9ucG0vbGVhZmxldEAxLjUuMS9kaXN0L2xlYWZsZXQuY3NzIi8+CiAgICA8bGluayByZWw9InN0eWxlc2hlZXQiIGhyZWY9Imh0dHBzOi8vbWF4Y2RuLmJvb3RzdHJhcGNkbi5jb20vYm9vdHN0cmFwLzMuMi4wL2Nzcy9ib290c3RyYXAubWluLmNzcyIvPgogICAgPGxpbmsgcmVsPSJzdHlsZXNoZWV0IiBocmVmPSJodHRwczovL21heGNkbi5ib290c3RyYXBjZG4uY29tL2Jvb3RzdHJhcC8zLjIuMC9jc3MvYm9vdHN0cmFwLXRoZW1lLm1pbi5jc3MiLz4KICAgIDxsaW5rIHJlbD0ic3R5bGVzaGVldCIgaHJlZj0iaHR0cHM6Ly9tYXhjZG4uYm9vdHN0cmFwY2RuLmNvbS9mb250LWF3ZXNvbWUvNC42LjMvY3NzL2ZvbnQtYXdlc29tZS5taW4uY3NzIi8+CiAgICA8bGluayByZWw9InN0eWxlc2hlZXQiIGhyZWY9Imh0dHBzOi8vY2RuanMuY2xvdWRmbGFyZS5jb20vYWpheC9saWJzL0xlYWZsZXQuYXdlc29tZS1tYXJrZXJzLzIuMC4yL2xlYWZsZXQuYXdlc29tZS1tYXJrZXJzLmNzcyIvPgogICAgPGxpbmsgcmVsPSJzdHlsZXNoZWV0IiBocmVmPSJodHRwczovL3Jhd2Nkbi5naXRoYWNrLmNvbS9weXRob24tdmlzdWFsaXphdGlvbi9mb2xpdW0vbWFzdGVyL2ZvbGl1bS90ZW1wbGF0ZXMvbGVhZmxldC5hd2Vzb21lLnJvdGF0ZS5jc3MiLz4KICAgIDxzdHlsZT5odG1sLCBib2R5IHt3aWR0aDogMTAwJTtoZWlnaHQ6IDEwMCU7bWFyZ2luOiAwO3BhZGRpbmc6IDA7fTwvc3R5bGU+CiAgICA8c3R5bGU+I21hcCB7cG9zaXRpb246YWJzb2x1dGU7dG9wOjA7Ym90dG9tOjA7cmlnaHQ6MDtsZWZ0OjA7fTwvc3R5bGU+CiAgICAKICAgICAgICAgICAgPG1ldGEgbmFtZT0idmlld3BvcnQiIGNvbnRlbnQ9IndpZHRoPWRldmljZS13aWR0aCwKICAgICAgICAgICAgICAgIGluaXRpYWwtc2NhbGU9MS4wLCBtYXhpbXVtLXNjYWxlPTEuMCwgdXNlci1zY2FsYWJsZT1ubyIgLz4KICAgICAgICAgICAgPHN0eWxlPgogICAgICAgICAgICAgICAgI21hcF83NmZjYWE3MDY3MWI0YTM2ODRlZGVkZDUzM2JhYTYyOCB7CiAgICAgICAgICAgICAgICAgICAgcG9zaXRpb246IHJlbGF0aXZlOwogICAgICAgICAgICAgICAgICAgIHdpZHRoOiAxMDAuMCU7CiAgICAgICAgICAgICAgICAgICAgaGVpZ2h0OiAxMDAuMCU7CiAgICAgICAgICAgICAgICAgICAgbGVmdDogMC4wJTsKICAgICAgICAgICAgICAgICAgICB0b3A6IDAuMCU7CiAgICAgICAgICAgICAgICB9CiAgICAgICAgICAgIDwvc3R5bGU+CiAgICAgICAgCjwvaGVhZD4KPGJvZHk+ICAgIAogICAgCiAgICAgICAgICAgIDxkaXYgY2xhc3M9ImZvbGl1bS1tYXAiIGlkPSJtYXBfNzZmY2FhNzA2NzFiNGEzNjg0ZWRlZGQ1MzNiYWE2MjgiID48L2Rpdj4KICAgICAgICAKPC9ib2R5Pgo8c2NyaXB0PiAgICAKICAgIAogICAgICAgICAgICB2YXIgbWFwXzc2ZmNhYTcwNjcxYjRhMzY4NGVkZWRkNTMzYmFhNjI4ID0gTC5tYXAoCiAgICAgICAgICAgICAgICAibWFwXzc2ZmNhYTcwNjcxYjRhMzY4NGVkZWRkNTMzYmFhNjI4IiwKICAgICAgICAgICAgICAgIHsKICAgICAgICAgICAgICAgICAgICBjZW50ZXI6IFstMTUuNzksIC00Ny44OV0sCiAgICAgICAgICAgICAgICAgICAgY3JzOiBMLkNSUy5FUFNHMzg1NywKICAgICAgICAgICAgICAgICAgICB6b29tOiA4LAogICAgICAgICAgICAgICAgICAgIHpvb21Db250cm9sOiB0cnVlLAogICAgICAgICAgICAgICAgICAgIHByZWZlckNhbnZhczogZmFsc2UsCiAgICAgICAgICAgICAgICAgICAgZGV0ZWN0UmV0aW5hOiB0cnVlLAogICAgICAgICAgICAgICAgfQogICAgICAgICAgICApOwogICAgICAgICAgICBMLmNvbnRyb2wuc2NhbGUoKS5hZGRUbyhtYXBfNzZmY2FhNzA2NzFiNGEzNjg0ZWRlZGQ1MzNiYWE2MjgpOwoKICAgICAgICAgICAgCgogICAgICAgIAogICAgCiAgICAgICAgICAgIHZhciB0aWxlX2xheWVyXzRiMjgzZDMyZGFkNDQwYTA5ZGY1Yzk3NzVhYWY2OTVjID0gTC50aWxlTGF5ZXIoCiAgICAgICAgICAgICAgICAiaHR0cHM6Ly9zdGFtZW4tdGlsZXMte3N9LmEuc3NsLmZhc3RseS5uZXQvdGVycmFpbi97en0ve3h9L3t5fS5qcGciLAogICAgICAgICAgICAgICAgeyJhdHRyaWJ1dGlvbiI6ICJNYXAgdGlsZXMgYnkgXHUwMDNjYSBocmVmPVwiaHR0cDovL3N0YW1lbi5jb21cIlx1MDAzZVN0YW1lbiBEZXNpZ25cdTAwM2MvYVx1MDAzZSwgdW5kZXIgXHUwMDNjYSBocmVmPVwiaHR0cDovL2NyZWF0aXZlY29tbW9ucy5vcmcvbGljZW5zZXMvYnkvMy4wXCJcdTAwM2VDQyBCWSAzLjBcdTAwM2MvYVx1MDAzZS4gRGF0YSBieSBcdTAwMjZjb3B5OyBcdTAwM2NhIGhyZWY9XCJodHRwOi8vb3BlbnN0cmVldG1hcC5vcmdcIlx1MDAzZU9wZW5TdHJlZXRNYXBcdTAwM2MvYVx1MDAzZSwgdW5kZXIgXHUwMDNjYSBocmVmPVwiaHR0cDovL2NyZWF0aXZlY29tbW9ucy5vcmcvbGljZW5zZXMvYnktc2EvMy4wXCJcdTAwM2VDQyBCWSBTQVx1MDAzYy9hXHUwMDNlLiIsICJkZXRlY3RSZXRpbmEiOiBmYWxzZSwgIm1heE5hdGl2ZVpvb20iOiAxOCwgIm1heFpvb20iOiAxOCwgIm1pblpvb20iOiAwLCAibm9XcmFwIjogZmFsc2UsICJvcGFjaXR5IjogMSwgInN1YmRvbWFpbnMiOiAiYWJjIiwgInRtcyI6IGZhbHNlfQogICAgICAgICAgICApLmFkZFRvKG1hcF83NmZjYWE3MDY3MWI0YTM2ODRlZGVkZDUzM2JhYTYyOCk7CiAgICAgICAgCiAgICAKICAgICAgICAgICAgdmFyIHRpbGVfbGF5ZXJfOWFmNWNiNWY5MzkxNDE2YWJmMzE4ZDkzZTdkNWE0ZGEgPSBMLnRpbGVMYXllcigKICAgICAgICAgICAgICAgICJodHRwczovL2VhcnRoZW5naW5lLmdvb2dsZWFwaXMuY29tL21hcC82Y2UyZGE2NDM5Zjg3NWNmMmUxYzM3N2ExOThhMDA3OC97en0ve3h9L3t5fT90b2tlbj0zN2NhOWRkMWNmYTIwYTg3NmZiYjJmOWMxM2YxYjc5YyIsCiAgICAgICAgICAgICAgICB7ImF0dHJpYnV0aW9uIjogIk1hcCBEYXRhIFx1MDAyNmNvcHk7IFx1MDAzY2EgaHJlZj1cImh0dHBzOi8vZWFydGhlbmdpbmUuZ29vZ2xlLmNvbS9cIlx1MDAzZUdvb2dsZSBFYXJ0aCBFbmdpbmVcdTAwM2MvYVx1MDAzZSAiLCAiZGV0ZWN0UmV0aW5hIjogZmFsc2UsICJtYXhOYXRpdmVab29tIjogMTgsICJtYXhab29tIjogMTgsICJtaW5ab29tIjogMCwgIm5vV3JhcCI6IGZhbHNlLCAib3BhY2l0eSI6IDEsICJzdWJkb21haW5zIjogImFiYyIsICJ0bXMiOiBmYWxzZX0KICAgICAgICAgICAgKS5hZGRUbyhtYXBfNzZmY2FhNzA2NzFiNGEzNjg0ZWRlZGQ1MzNiYWE2MjgpOwogICAgICAgIAogICAgCiAgICAgICAgICAgIHZhciB0aWxlX2xheWVyXzU5ZDMyNWYxMWNlNjQ2YmI5MmMwY2JmYjAyYWZlMzc4ID0gTC50aWxlTGF5ZXIoCiAgICAgICAgICAgICAgICAiaHR0cHM6Ly9lYXJ0aGVuZ2luZS5nb29nbGVhcGlzLmNvbS9tYXAvZjI1ZjBkMmU3NGUwNTk0MGNlMDI2Njc3NzI0MWYzZmEve3p9L3t4fS97eX0/dG9rZW49YmY0ZGY5ZjBlZWQ4MmFhOTMxZTUzYmM3NjBjODUxY2UiLAogICAgICAgICAgICAgICAgeyJhdHRyaWJ1dGlvbiI6ICJNYXAgRGF0YSBcdTAwMjZjb3B5OyBcdTAwM2NhIGhyZWY9XCJodHRwczovL2VhcnRoZW5naW5lLmdvb2dsZS5jb20vXCJcdTAwM2VHb29nbGUgRWFydGggRW5naW5lXHUwMDNjL2FcdTAwM2UgIiwgImRldGVjdFJldGluYSI6IGZhbHNlLCAibWF4TmF0aXZlWm9vbSI6IDE4LCAibWF4Wm9vbSI6IDE4LCAibWluWm9vbSI6IDAsICJub1dyYXAiOiBmYWxzZSwgIm9wYWNpdHkiOiAxLCAic3ViZG9tYWlucyI6ICJhYmMiLCAidG1zIjogZmFsc2V9CiAgICAgICAgICAgICkuYWRkVG8obWFwXzc2ZmNhYTcwNjcxYjRhMzY4NGVkZWRkNTMzYmFhNjI4KTsKICAgICAgICAKICAgIAogICAgICAgICAgICB2YXIgdGlsZV9sYXllcl8wM2MyZTRmODMzYTU0NjdiOGY2MTZhODI3MDFiZjM3ZiA9IEwudGlsZUxheWVyKAogICAgICAgICAgICAgICAgImh0dHBzOi8vZWFydGhlbmdpbmUuZ29vZ2xlYXBpcy5jb20vbWFwLzgxZTVhZWM0ZjllMTEyYzRiYTM3NzgxNjlkZDVhN2EzL3t6fS97eH0ve3l9P3Rva2VuPTU3YWZiZGRkYzcyZjEyNzRiNDVjMjBkNzgzZmRkYzBjIiwKICAgICAgICAgICAgICAgIHsiYXR0cmlidXRpb24iOiAiTWFwIERhdGEgXHUwMDI2Y29weTsgXHUwMDNjYSBocmVmPVwiaHR0cHM6Ly9lYXJ0aGVuZ2luZS5nb29nbGUuY29tL1wiXHUwMDNlR29vZ2xlIEVhcnRoIEVuZ2luZVx1MDAzYy9hXHUwMDNlICIsICJkZXRlY3RSZXRpbmEiOiBmYWxzZSwgIm1heE5hdGl2ZVpvb20iOiAxOCwgIm1heFpvb20iOiAxOCwgIm1pblpvb20iOiAwLCAibm9XcmFwIjogZmFsc2UsICJvcGFjaXR5IjogMSwgInN1YmRvbWFpbnMiOiAiYWJjIiwgInRtcyI6IGZhbHNlfQogICAgICAgICAgICApLmFkZFRvKG1hcF83NmZjYWE3MDY3MWI0YTM2ODRlZGVkZDUzM2JhYTYyOCk7CiAgICAgICAgCiAgICAKICAgICAgICAgICAgdmFyIHRpbGVfbGF5ZXJfODNjZTc3ZWUwMTQyNGU3N2I0NmQ3ODQzOTU3MmMwY2YgPSBMLnRpbGVMYXllcigKICAgICAgICAgICAgICAgICJodHRwczovL2VhcnRoZW5naW5lLmdvb2dsZWFwaXMuY29tL21hcC8xMDc2ZGMyYjQwYjFjMTJkMjYwNjY0MTVmMWZhMDk2Mi97en0ve3h9L3t5fT90b2tlbj0yMTRiNTc3NWI3ZWViZmUyM2ZlOTc1ZWI3N2E1NGFhYiIsCiAgICAgICAgICAgICAgICB7ImF0dHJpYnV0aW9uIjogIk1hcCBEYXRhIFx1MDAyNmNvcHk7IFx1MDAzY2EgaHJlZj1cImh0dHBzOi8vZWFydGhlbmdpbmUuZ29vZ2xlLmNvbS9cIlx1MDAzZUdvb2dsZSBFYXJ0aCBFbmdpbmVcdTAwM2MvYVx1MDAzZSAiLCAiZGV0ZWN0UmV0aW5hIjogZmFsc2UsICJtYXhOYXRpdmVab29tIjogMTgsICJtYXhab29tIjogMTgsICJtaW5ab29tIjogMCwgIm5vV3JhcCI6IGZhbHNlLCAib3BhY2l0eSI6IDEsICJzdWJkb21haW5zIjogImFiYyIsICJ0bXMiOiBmYWxzZX0KICAgICAgICAgICAgKS5hZGRUbyhtYXBfNzZmY2FhNzA2NzFiNGEzNjg0ZWRlZGQ1MzNiYWE2MjgpOwogICAgICAgIAogICAgCiAgICAgICAgICAgIHZhciBsYXllcl9jb250cm9sX2YxMzg2NzU4ZGNkNzRkNTlhZWIzYzhhNTQ2MTU1ZWI0ID0gewogICAgICAgICAgICAgICAgYmFzZV9sYXllcnMgOiB7CiAgICAgICAgICAgICAgICAgICAgInN0YW1lbnRlcnJhaW4iIDogdGlsZV9sYXllcl80YjI4M2QzMmRhZDQ0MGEwOWRmNWM5Nzc1YWFmNjk1YywKICAgICAgICAgICAgICAgIH0sCiAgICAgICAgICAgICAgICBvdmVybGF5cyA6ICB7CiAgICAgICAgICAgICAgICAgICAgInBvbGFyaXphXHUwMGU3XHUwMGUzb1ZWX2JzYiIgOiB0aWxlX2xheWVyXzlhZjVjYjVmOTM5MTQxNmFiZjMxOGQ5M2U3ZDVhNGRhLAogICAgICAgICAgICAgICAgICAgICJwb2xhcml6YVx1MDBlN1x1MDBlM29WSF9ic2IiIDogdGlsZV9sYXllcl81OWQzMjVmMTFjZTY0NmJiOTJjMGNiZmIwMmFmZTM3OCwKICAgICAgICAgICAgICAgICAgICAiY29yIHZlcmRhZGVpcmFfYnNiIiA6IHRpbGVfbGF5ZXJfMDNjMmU0ZjgzM2E1NDY3YjhmNjE2YTgyNzAxYmYzN2YsCiAgICAgICAgICAgICAgICAgICAgIkluZnJhdmVybWVsaG8gZGUgb25kYSBjdXJ0YV9ic2IiIDogdGlsZV9sYXllcl84M2NlNzdlZTAxNDI0ZTc3YjQ2ZDc4NDM5NTcyYzBjZiwKICAgICAgICAgICAgICAgIH0sCiAgICAgICAgICAgIH07CiAgICAgICAgICAgIEwuY29udHJvbC5sYXllcnMoCiAgICAgICAgICAgICAgICBsYXllcl9jb250cm9sX2YxMzg2NzU4ZGNkNzRkNTlhZWIzYzhhNTQ2MTU1ZWI0LmJhc2VfbGF5ZXJzLAogICAgICAgICAgICAgICAgbGF5ZXJfY29udHJvbF9mMTM4Njc1OGRjZDc0ZDU5YWViM2M4YTU0NjE1NWViNC5vdmVybGF5cywKICAgICAgICAgICAgICAgIHsiYXV0b1pJbmRleCI6IHRydWUsICJjb2xsYXBzZWQiOiB0cnVlLCAicG9zaXRpb24iOiAidG9wcmlnaHQifQogICAgICAgICAgICApLmFkZFRvKG1hcF83NmZjYWE3MDY3MWI0YTM2ODRlZGVkZDUzM2JhYTYyOCk7CiAgICAgICAgICAgIHRpbGVfbGF5ZXJfODNjZTc3ZWUwMTQyNGU3N2I0NmQ3ODQzOTU3MmMwY2YucmVtb3ZlKCk7CiAgICAgICAgCjwvc2NyaXB0Pg==\" style=\"position:absolute;width:100%;height:100%;left:0;top:0;border:none !important;\" allowfullscreen webkitallowfullscreen mozallowfullscreen></iframe></div></div>"
      ],
      "text/plain": [
       "<folium.folium.Map at 0x7f57d0d08198>"
      ]
     },
     "execution_count": 28,
     "metadata": {},
     "output_type": "execute_result"
    }
   ],
   "source": [
    "# Adicionar um painel de controle de camada ao mapa\n",
    "\n",
    "folium.LayerControl().add_to(myMap)\n",
    "\n",
    "# Mostrar o mapa!\n",
    "myMap"
   ]
  },
  {
   "cell_type": "markdown",
   "metadata": {},
   "source": [
    "<h2>Analisando estas imagens, responda:</h2>\n",
    "\n",
    "\n",
    "1. Analisando as diferenças de iluminação que podem ser percebidas na imagem, deduza por onde passou o sensor em relação à    direcção de voo (Azimute). Ao norte, leste, sul, oeste?\n",
    "   \n",
    "2. Analisando a imagem de radar localize: “ocorrência de sombras”, “encurtamento de rampa”, “inversão do relevo”, \"área        urbana\", \"água\", “aeroporto”,“barcos”. Compare com as imagens óticas.  \n",
    "\n",
    "3. Quais feições não puderam ser detectadas na imagem de radar e são visíveis na imagem ótica?"
   ]
  },
  {
   "cell_type": "markdown",
   "metadata": {},
   "source": [
    "## Como obter imagens SAR"
   ]
  },
  {
   "cell_type": "code",
   "execution_count": 29,
   "metadata": {},
   "outputs": [
    {
     "data": {
      "text/html": [
       "<center><iframe width=\"560\" height=\"315\" src=\"https://www.youtube.com/embed/zcwiSJWO7Ck\" frameborder=\"0\" allow=\"accelerometer; autoplay; encrypted-media; gyroscope; picture-in-picture\" allowfullscreen></iframe></center>"
      ],
      "text/plain": [
       "<IPython.core.display.HTML object>"
      ]
     },
     "execution_count": 29,
     "metadata": {},
     "output_type": "execute_result"
    }
   ],
   "source": [
    "#@title ### # Como obter imagens SAR\n",
    "from IPython.display import HTML\n",
    "HTML('<center><iframe width=\"560\" height=\"315\" src=\"https://www.youtube.com/embed/zcwiSJWO7Ck\" frameborder=\"0\" allow=\"accelerometer; autoplay; encrypted-media; gyroscope; picture-in-picture\" allowfullscreen></iframe></center>')"
   ]
  },
  {
   "cell_type": "markdown",
   "metadata": {},
   "source": [
    "  - [Copernicus Open Access Hub](https://scihub.copernicus.eu/)\n",
    "  - [Earth Explorer   (U.S. Geological Service)](https://earthexplorer.usgs.gov/)\n",
    "  - [Vertex    (Alaska Space Facility)](https://search.asf.alaska.edu/)\n",
    "  - [JPL UAVSAR    (Jet Propulsion Laboratory NASA)](https://uavsar.jpl.nasa.gov/)  \n",
    "  - [EO Browser](https://apps.sentinel-hub.com/eo-browser/)\n",
    " "
   ]
  },
  {
   "cell_type": "markdown",
   "metadata": {},
   "source": [
    "## Introdução ao SNAP"
   ]
  },
  {
   "cell_type": "code",
   "execution_count": 30,
   "metadata": {},
   "outputs": [
    {
     "data": {
      "text/html": [
       "<center><iframe width=\"560\" height=\"315\" src=\"https://www.youtube.com/embed/-qjZtHUOQkg\" frameborder=\"0\" allow=\"accelerometer; autoplay; encrypted-media; gyroscope; picture-in-picture\" allowfullscreen></iframe></center>"
      ],
      "text/plain": [
       "<IPython.core.display.HTML object>"
      ]
     },
     "execution_count": 30,
     "metadata": {},
     "output_type": "execute_result"
    }
   ],
   "source": [
    "#@title ### # Introdução ao SNAP\n",
    "from IPython.display import HTML\n",
    "HTML('<center><iframe width=\"560\" height=\"315\" src=\"https://www.youtube.com/embed/-qjZtHUOQkg\" frameborder=\"0\" allow=\"accelerometer; autoplay; encrypted-media; gyroscope; picture-in-picture\" allowfullscreen></iframe></center>')"
   ]
  },
  {
   "cell_type": "markdown",
   "metadata": {},
   "source": [
    "- [Google Earth Engine](https://earthengine.google.com/)"
   ]
  }
 ],
 "metadata": {
  "kernelspec": {
   "display_name": "Python 3",
   "language": "python",
   "name": "python3"
  },
  "language_info": {
   "codemirror_mode": {
    "name": "ipython",
    "version": 3
   },
   "file_extension": ".py",
   "mimetype": "text/x-python",
   "name": "python",
   "nbconvert_exporter": "python",
   "pygments_lexer": "ipython3",
   "version": "3.7.3"
  }
 },
 "nbformat": 4,
 "nbformat_minor": 4
}
